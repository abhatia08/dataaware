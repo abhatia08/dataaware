{
 "cells": [
  {
   "cell_type": "markdown",
   "id": "dfafd2f7",
   "metadata": {
    "papermill": {
     "duration": 0.008556,
     "end_time": "2023-07-26T13:44:55.089686",
     "exception": false,
     "start_time": "2023-07-26T13:44:55.081130",
     "status": "completed"
    },
    "tags": []
   },
   "source": [
    "Introduction-\n",
    "In this project, we aimed to predict the emotional sentiment, specifically the level of sadness, in the backstories of Marvel Characters using a logistic regression model. By finding the level of sadness for each Marvel Character, we hoped to gain insights into the emotional storytelling elements that create more impactful connections between the Character and their audiences.\n",
    "\n",
    "Objectives-\n",
    "1. Build a dataset of Marvel Character backstories, along with a sadness scores based on Python Sentiment Analysis.\n",
    "2. Preprocess the data, including text cleaning, and tokenization,to prepare it for the logistic regression model.\n",
    "3. Train a logistic regression model to predict the sadness level of a superhero's backstory based on the text.\n",
    "4. Evaluate the model's performance using appropriate metrics like accuracy and precision.\n",
    "\n",
    "Results and Conclusions-\n",
    "After collecting and preprocessing the data, we successfully trained a logistic regression model to predict the sadness level of Marvel Character backstories. The model that was created is resonable good, with an accuracy of around 85% on the test dataset. We analyzed the important features identified by the model and found that specific emotional cues and plot elements contribute significantly to the perceived sadness of a backstory.\n",
    "\n",
    "Acknowledge-\n",
    "We would like to express our gratitude to Jonathan Besomi for providing us with the data and the opportunity to work on this exciting project. We also acknowledge the efforts of all the team members involved in data collection, preprocessing, and model training. Team members were Ezana, Logan, Ashley(Mentor).\n",
    "\n"
   ]
  },
  {
   "cell_type": "code",
   "execution_count": 1,
   "id": "f2d7de7e",
   "metadata": {
    "_cell_guid": "b1076dfc-b9ad-4769-8c92-a6c4dae69d19",
    "_uuid": "8f2839f25d086af736a60e9eeb907d3b93b6e0e5",
    "execution": {
     "iopub.execute_input": "2023-07-26T13:44:55.109302Z",
     "iopub.status.busy": "2023-07-26T13:44:55.108579Z",
     "iopub.status.idle": "2023-07-26T13:44:55.129724Z",
     "shell.execute_reply": "2023-07-26T13:44:55.128538Z"
    },
    "papermill": {
     "duration": 0.034307,
     "end_time": "2023-07-26T13:44:55.132521",
     "exception": false,
     "start_time": "2023-07-26T13:44:55.098214",
     "status": "completed"
    },
    "tags": []
   },
   "outputs": [
    {
     "name": "stdout",
     "output_type": "stream",
     "text": [
      "/kaggle/input/clean-stuff/cleandata.csv\n"
     ]
    }
   ],
   "source": [
    "# This Python 3 environment comes with many helpful analytics libraries installed\n",
    "# It is defined by the kaggle/python Docker image: https://github.com/kaggle/docker-python\n",
    "# For example, here's several helpful packages to load\n",
    "\n",
    "import numpy as np # linear algebra\n",
    "import pandas as pd # data processing, CSV file I/O (e.g. pd.read_csv)\n",
    "\n",
    "# Input data files are available in the read-only \"../input/\" directory\n",
    "# For example, running this (by clicking run or pressing Shift+Enter) will list all files under the input directory\n",
    "\n",
    "import os\n",
    "for dirname, _, filenames in os.walk('/kaggle/input'):\n",
    "    for filename in filenames:\n",
    "        print(os.path.join(dirname, filename))\n",
    "\n",
    "# You can write up to 20GB to the current directory (/kaggle/working/) that gets preserved as output when you create a version using \"Save & Run All\" \n",
    "# You can also write temporary files to /kaggle/temp/, but they won't be saved outside of the current session"
   ]
  },
  {
   "cell_type": "code",
   "execution_count": 2,
   "id": "3c6350ea",
   "metadata": {
    "execution": {
     "iopub.execute_input": "2023-07-26T13:44:55.151085Z",
     "iopub.status.busy": "2023-07-26T13:44:55.150668Z",
     "iopub.status.idle": "2023-07-26T13:45:08.164592Z",
     "shell.execute_reply": "2023-07-26T13:45:08.163132Z"
    },
    "papermill": {
     "duration": 13.025999,
     "end_time": "2023-07-26T13:45:08.166988",
     "exception": false,
     "start_time": "2023-07-26T13:44:55.140989",
     "status": "completed"
    },
    "tags": []
   },
   "outputs": [
    {
     "name": "stdout",
     "output_type": "stream",
     "text": [
      "Requirement already satisfied: pandas in /opt/conda/lib/python3.10/site-packages (1.5.3)\r\n",
      "Requirement already satisfied: python-dateutil>=2.8.1 in /opt/conda/lib/python3.10/site-packages (from pandas) (2.8.2)\r\n",
      "Requirement already satisfied: pytz>=2020.1 in /opt/conda/lib/python3.10/site-packages (from pandas) (2023.3)\r\n",
      "Requirement already satisfied: numpy>=1.21.0 in /opt/conda/lib/python3.10/site-packages (from pandas) (1.23.5)\r\n",
      "Requirement already satisfied: six>=1.5 in /opt/conda/lib/python3.10/site-packages (from python-dateutil>=2.8.1->pandas) (1.16.0)\r\n",
      "Note: you may need to restart the kernel to use updated packages.\n"
     ]
    }
   ],
   "source": [
    "pip install pandas"
   ]
  },
  {
   "cell_type": "code",
   "execution_count": 3,
   "id": "b14851e1",
   "metadata": {
    "execution": {
     "iopub.execute_input": "2023-07-26T13:45:08.185530Z",
     "iopub.status.busy": "2023-07-26T13:45:08.185128Z",
     "iopub.status.idle": "2023-07-26T13:45:20.542697Z",
     "shell.execute_reply": "2023-07-26T13:45:20.541288Z"
    },
    "papermill": {
     "duration": 12.370161,
     "end_time": "2023-07-26T13:45:20.545462",
     "exception": false,
     "start_time": "2023-07-26T13:45:08.175301",
     "status": "completed"
    },
    "tags": []
   },
   "outputs": [
    {
     "name": "stdout",
     "output_type": "stream",
     "text": [
      "Collecting contractions\r\n",
      "  Downloading contractions-0.1.73-py2.py3-none-any.whl (8.7 kB)\r\n",
      "Collecting textsearch>=0.0.21 (from contractions)\r\n",
      "  Downloading textsearch-0.0.24-py2.py3-none-any.whl (7.6 kB)\r\n",
      "Collecting anyascii (from textsearch>=0.0.21->contractions)\r\n",
      "  Downloading anyascii-0.3.2-py3-none-any.whl (289 kB)\r\n",
      "\u001b[2K     \u001b[90m━━━━━━━━━━━━━━━━━━━━━━━━━━━━━━━━━━━━━━━\u001b[0m \u001b[32m289.9/289.9 kB\u001b[0m \u001b[31m5.7 MB/s\u001b[0m eta \u001b[36m0:00:00\u001b[0m\r\n",
      "\u001b[?25hCollecting pyahocorasick (from textsearch>=0.0.21->contractions)\r\n",
      "  Downloading pyahocorasick-2.0.0-cp310-cp310-manylinux_2_5_x86_64.manylinux1_x86_64.manylinux_2_12_x86_64.manylinux2010_x86_64.whl (110 kB)\r\n",
      "\u001b[2K     \u001b[90m━━━━━━━━━━━━━━━━━━━━━━━━━━━━━━━━━━━━━━━\u001b[0m \u001b[32m110.8/110.8 kB\u001b[0m \u001b[31m9.7 MB/s\u001b[0m eta \u001b[36m0:00:00\u001b[0m\r\n",
      "\u001b[?25hInstalling collected packages: pyahocorasick, anyascii, textsearch, contractions\r\n",
      "Successfully installed anyascii-0.3.2 contractions-0.1.73 pyahocorasick-2.0.0 textsearch-0.0.24\r\n"
     ]
    }
   ],
   "source": [
    "!pip install contractions"
   ]
  },
  {
   "cell_type": "code",
   "execution_count": 4,
   "id": "771baa20",
   "metadata": {
    "execution": {
     "iopub.execute_input": "2023-07-26T13:45:20.567113Z",
     "iopub.status.busy": "2023-07-26T13:45:20.566684Z",
     "iopub.status.idle": "2023-07-26T13:45:32.288719Z",
     "shell.execute_reply": "2023-07-26T13:45:32.287543Z"
    },
    "papermill": {
     "duration": 11.735305,
     "end_time": "2023-07-26T13:45:32.291397",
     "exception": false,
     "start_time": "2023-07-26T13:45:20.556092",
     "status": "completed"
    },
    "tags": []
   },
   "outputs": [
    {
     "name": "stdout",
     "output_type": "stream",
     "text": [
      "Requirement already satisfied: nltk in /opt/conda/lib/python3.10/site-packages (3.2.4)\r\n",
      "Requirement already satisfied: six in /opt/conda/lib/python3.10/site-packages (from nltk) (1.16.0)\r\n"
     ]
    }
   ],
   "source": [
    "!pip install nltk"
   ]
  },
  {
   "cell_type": "code",
   "execution_count": 5,
   "id": "47d64d43",
   "metadata": {
    "execution": {
     "iopub.execute_input": "2023-07-26T13:45:32.312485Z",
     "iopub.status.busy": "2023-07-26T13:45:32.312046Z",
     "iopub.status.idle": "2023-07-26T13:45:34.634018Z",
     "shell.execute_reply": "2023-07-26T13:45:34.632608Z"
    },
    "papermill": {
     "duration": 2.335421,
     "end_time": "2023-07-26T13:45:34.636336",
     "exception": false,
     "start_time": "2023-07-26T13:45:32.300915",
     "status": "completed"
    },
    "tags": []
   },
   "outputs": [
    {
     "name": "stderr",
     "output_type": "stream",
     "text": [
      "/opt/conda/lib/python3.10/site-packages/scipy/__init__.py:146: UserWarning: A NumPy version >=1.16.5 and <1.23.0 is required for this version of SciPy (detected version 1.23.5\n",
      "  warnings.warn(f\"A NumPy version >={np_minversion} and <{np_maxversion}\"\n"
     ]
    },
    {
     "name": "stdout",
     "output_type": "stream",
     "text": [
      "[nltk_data] Downloading package stopwords to /usr/share/nltk_data...\n",
      "[nltk_data]   Package stopwords is already up-to-date!\n",
      "[nltk_data] Downloading package punkt to /usr/share/nltk_data...\n",
      "[nltk_data]   Package punkt is already up-to-date!\n",
      "[nltk_data] Downloading package wordnet to /usr/share/nltk_data...\n",
      "[nltk_data]   Package wordnet is already up-to-date!\n"
     ]
    }
   ],
   "source": [
    "#%% Import python modules and packages\n",
    "\n",
    "# Tools to create a data frame(table)\n",
    "import pandas as pd\n",
    "from pandas import DataFrame\n",
    "\n",
    "# Tools for text preprocessing\n",
    "import nltk\n",
    "import re\n",
    "\n",
    "# Tools to remove stopwords\n",
    "from nltk.corpus import stopwords\n",
    "\n",
    "# Tools for tokenizing\n",
    "from nltk.tokenize.toktok import ToktokTokenizer\n",
    "\n",
    "# Tools for lemmatization\n",
    "from nltk.stem import WordNetLemmatizer\n",
    "nltk.download('stopwords')\n",
    "nltk.download('punkt')\n",
    "nltk.download('wordnet')\n",
    "\n",
    "# Tools for plotting\n",
    "import matplotlib.pyplot as plt\n",
    "\n",
    "# Tools for doing word frequencies\n",
    "from nltk.util import ngrams\n",
    "\n",
    "import contractions\n"
   ]
  },
  {
   "cell_type": "code",
   "execution_count": 6,
   "id": "748f83fd",
   "metadata": {
    "execution": {
     "iopub.execute_input": "2023-07-26T13:45:34.657545Z",
     "iopub.status.busy": "2023-07-26T13:45:34.657154Z",
     "iopub.status.idle": "2023-07-26T13:45:34.683199Z",
     "shell.execute_reply": "2023-07-26T13:45:34.682021Z"
    },
    "papermill": {
     "duration": 0.039863,
     "end_time": "2023-07-26T13:45:34.685829",
     "exception": false,
     "start_time": "2023-07-26T13:45:34.645966",
     "status": "completed"
    },
    "tags": []
   },
   "outputs": [
    {
     "name": "stdout",
     "output_type": "stream",
     "text": [
      "[nltk_data] Downloading package vader_lexicon to\n",
      "[nltk_data]     /usr/share/nltk_data...\n",
      "[nltk_data]   Package vader_lexicon is already up-to-date!\n"
     ]
    },
    {
     "name": "stderr",
     "output_type": "stream",
     "text": [
      "/opt/conda/lib/python3.10/site-packages/nltk/twitter/__init__.py:20: UserWarning: The twython library has not been installed. Some functionality from the twitter package will not be available.\n",
      "  warnings.warn(\"The twython library has not been installed. \"\n"
     ]
    },
    {
     "data": {
      "text/plain": [
       "True"
      ]
     },
     "execution_count": 6,
     "metadata": {},
     "output_type": "execute_result"
    }
   ],
   "source": [
    "import pandas as pd\n",
    "from nltk.sentiment import SentimentIntensityAnalyzer\n",
    "\n",
    "nltk.download('vader_lexicon')"
   ]
  },
  {
   "cell_type": "code",
   "execution_count": 7,
   "id": "fa164833",
   "metadata": {
    "execution": {
     "iopub.execute_input": "2023-07-26T13:45:34.707343Z",
     "iopub.status.busy": "2023-07-26T13:45:34.706905Z",
     "iopub.status.idle": "2023-07-26T13:45:34.866425Z",
     "shell.execute_reply": "2023-07-26T13:45:34.865244Z"
    },
    "papermill": {
     "duration": 0.173259,
     "end_time": "2023-07-26T13:45:34.869096",
     "exception": false,
     "start_time": "2023-07-26T13:45:34.695837",
     "status": "completed"
    },
    "tags": []
   },
   "outputs": [],
   "source": [
    "#Reading in the Dataset\n",
    "data = pd.read_csv('/kaggle/input/clean-stuff/cleandata.csv')"
   ]
  },
  {
   "cell_type": "code",
   "execution_count": 8,
   "id": "084075c0",
   "metadata": {
    "execution": {
     "iopub.execute_input": "2023-07-26T13:45:34.891232Z",
     "iopub.status.busy": "2023-07-26T13:45:34.890791Z",
     "iopub.status.idle": "2023-07-26T13:45:34.916642Z",
     "shell.execute_reply": "2023-07-26T13:45:34.915427Z"
    },
    "papermill": {
     "duration": 0.040266,
     "end_time": "2023-07-26T13:45:34.919226",
     "exception": false,
     "start_time": "2023-07-26T13:45:34.878960",
     "status": "completed"
    },
    "tags": []
   },
   "outputs": [
    {
     "data": {
      "text/html": [
       "<div>\n",
       "<style scoped>\n",
       "    .dataframe tbody tr th:only-of-type {\n",
       "        vertical-align: middle;\n",
       "    }\n",
       "\n",
       "    .dataframe tbody tr th {\n",
       "        vertical-align: top;\n",
       "    }\n",
       "\n",
       "    .dataframe thead th {\n",
       "        text-align: right;\n",
       "    }\n",
       "</style>\n",
       "<table border=\"1\" class=\"dataframe\">\n",
       "  <thead>\n",
       "    <tr style=\"text-align: right;\">\n",
       "      <th></th>\n",
       "      <th>name</th>\n",
       "      <th>real_name</th>\n",
       "      <th>full_name</th>\n",
       "      <th>overall_score</th>\n",
       "      <th>history_text</th>\n",
       "      <th>powers_text</th>\n",
       "      <th>creator</th>\n",
       "      <th>clean</th>\n",
       "    </tr>\n",
       "  </thead>\n",
       "  <tbody>\n",
       "    <tr>\n",
       "      <th>0</th>\n",
       "      <td>3-D Man</td>\n",
       "      <td>Delroy Garrett, Jr.</td>\n",
       "      <td>Delroy Garrett, Jr.</td>\n",
       "      <td>6</td>\n",
       "      <td>Delroy Garrett, Jr. grew up to become a track ...</td>\n",
       "      <td>NaN</td>\n",
       "      <td>Marvel Comics</td>\n",
       "      <td>delroy garrett jr grow become track star compe...</td>\n",
       "    </tr>\n",
       "    <tr>\n",
       "      <th>1</th>\n",
       "      <td>A-Bomb</td>\n",
       "      <td>Richard Milhouse Jones</td>\n",
       "      <td>Richard Milhouse Jones</td>\n",
       "      <td>20</td>\n",
       "      <td>Richard \"Rick\" Jones was orphaned at a young ...</td>\n",
       "      <td>On rare occasions, and through unusual circu...</td>\n",
       "      <td>Marvel Comics</td>\n",
       "      <td>richard rick jones orphan young age expel seve...</td>\n",
       "    </tr>\n",
       "    <tr>\n",
       "      <th>2</th>\n",
       "      <td>Abomination</td>\n",
       "      <td>Emil Blonsky</td>\n",
       "      <td>Emil Blonsky</td>\n",
       "      <td>22</td>\n",
       "      <td>Formerly known as Emil Blonsky, a spy of Sovie...</td>\n",
       "      <td>'Blonsky''s transformation into the Abominatio...</td>\n",
       "      <td>Marvel Comics</td>\n",
       "      <td>formerly know emil blonsky spy soviet yugoslav...</td>\n",
       "    </tr>\n",
       "    <tr>\n",
       "      <th>3</th>\n",
       "      <td>Abraxas</td>\n",
       "      <td>Abraxas</td>\n",
       "      <td>Abraxas</td>\n",
       "      <td>∞</td>\n",
       "      <td>Born within the abstract entity Eternity, Abra...</td>\n",
       "      <td>As antithesis to the cosmic entity Eternity, A...</td>\n",
       "      <td>Marvel Comics</td>\n",
       "      <td>bear within abstract entity eternity abraxas k...</td>\n",
       "    </tr>\n",
       "    <tr>\n",
       "      <th>4</th>\n",
       "      <td>Absorbing Man (MCU)</td>\n",
       "      <td>Carl Creel</td>\n",
       "      <td>Carl Creel</td>\n",
       "      <td>8</td>\n",
       "      <td>Carl \"Crusher\" Creel was an enhanced individua...</td>\n",
       "      <td>Carl Creel was able to duplicate at will the ...</td>\n",
       "      <td>Marvel Comics</td>\n",
       "      <td>carl crusher creel enhance individual ability ...</td>\n",
       "    </tr>\n",
       "  </tbody>\n",
       "</table>\n",
       "</div>"
      ],
      "text/plain": [
       "                  name               real_name               full_name  \\\n",
       "0              3-D Man     Delroy Garrett, Jr.     Delroy Garrett, Jr.   \n",
       "1               A-Bomb  Richard Milhouse Jones  Richard Milhouse Jones   \n",
       "2          Abomination            Emil Blonsky            Emil Blonsky   \n",
       "3              Abraxas                 Abraxas                 Abraxas   \n",
       "4  Absorbing Man (MCU)              Carl Creel              Carl Creel   \n",
       "\n",
       "  overall_score                                       history_text  \\\n",
       "0             6  Delroy Garrett, Jr. grew up to become a track ...   \n",
       "1            20   Richard \"Rick\" Jones was orphaned at a young ...   \n",
       "2            22  Formerly known as Emil Blonsky, a spy of Sovie...   \n",
       "3             ∞  Born within the abstract entity Eternity, Abra...   \n",
       "4             8  Carl \"Crusher\" Creel was an enhanced individua...   \n",
       "\n",
       "                                         powers_text        creator  \\\n",
       "0                                                NaN  Marvel Comics   \n",
       "1    On rare occasions, and through unusual circu...  Marvel Comics   \n",
       "2  'Blonsky''s transformation into the Abominatio...  Marvel Comics   \n",
       "3  As antithesis to the cosmic entity Eternity, A...  Marvel Comics   \n",
       "4   Carl Creel was able to duplicate at will the ...  Marvel Comics   \n",
       "\n",
       "                                               clean  \n",
       "0  delroy garrett jr grow become track star compe...  \n",
       "1  richard rick jones orphan young age expel seve...  \n",
       "2  formerly know emil blonsky spy soviet yugoslav...  \n",
       "3  bear within abstract entity eternity abraxas k...  \n",
       "4  carl crusher creel enhance individual ability ...  "
      ]
     },
     "execution_count": 8,
     "metadata": {},
     "output_type": "execute_result"
    }
   ],
   "source": [
    "data.head()\n"
   ]
  },
  {
   "cell_type": "code",
   "execution_count": 9,
   "id": "beb13057",
   "metadata": {
    "execution": {
     "iopub.execute_input": "2023-07-26T13:45:34.942282Z",
     "iopub.status.busy": "2023-07-26T13:45:34.941866Z",
     "iopub.status.idle": "2023-07-26T13:45:34.959158Z",
     "shell.execute_reply": "2023-07-26T13:45:34.958151Z"
    },
    "papermill": {
     "duration": 0.032474,
     "end_time": "2023-07-26T13:45:34.961617",
     "exception": false,
     "start_time": "2023-07-26T13:45:34.929143",
     "status": "completed"
    },
    "tags": []
   },
   "outputs": [],
   "source": [
    "#Assinging sia as the sentiment analyst\n",
    "sia = SentimentIntensityAnalyzer()"
   ]
  },
  {
   "cell_type": "code",
   "execution_count": 10,
   "id": "e264fb11",
   "metadata": {
    "execution": {
     "iopub.execute_input": "2023-07-26T13:45:34.984701Z",
     "iopub.status.busy": "2023-07-26T13:45:34.984071Z",
     "iopub.status.idle": "2023-07-26T13:45:40.133143Z",
     "shell.execute_reply": "2023-07-26T13:45:40.131993Z"
    },
    "papermill": {
     "duration": 5.163938,
     "end_time": "2023-07-26T13:45:40.135814",
     "exception": false,
     "start_time": "2023-07-26T13:45:34.971876",
     "status": "completed"
    },
    "tags": []
   },
   "outputs": [],
   "source": [
    "def calculate_sadness_level(backstory):\n",
    "    if isinstance(backstory, str):\n",
    "        sentiment = sia.polarity_scores(backstory)\n",
    "        sadness_level = sentiment['neg']\n",
    "    else:\n",
    "        sadness_level = 0  # Assign 0 for NaN or non-string values\n",
    "    return sadness_level\n",
    "\n",
    "data['sadness_level'] = data['clean'].apply(calculate_sadness_level)"
   ]
  },
  {
   "cell_type": "code",
   "execution_count": 11,
   "id": "11fe77a6",
   "metadata": {
    "execution": {
     "iopub.execute_input": "2023-07-26T13:45:40.158007Z",
     "iopub.status.busy": "2023-07-26T13:45:40.157587Z",
     "iopub.status.idle": "2023-07-26T13:45:40.311886Z",
     "shell.execute_reply": "2023-07-26T13:45:40.311016Z"
    },
    "papermill": {
     "duration": 0.168106,
     "end_time": "2023-07-26T13:45:40.314282",
     "exception": false,
     "start_time": "2023-07-26T13:45:40.146176",
     "status": "completed"
    },
    "tags": []
   },
   "outputs": [],
   "source": [
    "data.to_csv(\"superhero_with_sadness.csv\", index=False)"
   ]
  },
  {
   "cell_type": "code",
   "execution_count": 12,
   "id": "9e880fd8",
   "metadata": {
    "execution": {
     "iopub.execute_input": "2023-07-26T13:45:40.336540Z",
     "iopub.status.busy": "2023-07-26T13:45:40.335915Z",
     "iopub.status.idle": "2023-07-26T13:45:40.349911Z",
     "shell.execute_reply": "2023-07-26T13:45:40.349065Z"
    },
    "papermill": {
     "duration": 0.027431,
     "end_time": "2023-07-26T13:45:40.351962",
     "exception": false,
     "start_time": "2023-07-26T13:45:40.324531",
     "status": "completed"
    },
    "tags": []
   },
   "outputs": [
    {
     "data": {
      "text/html": [
       "<div>\n",
       "<style scoped>\n",
       "    .dataframe tbody tr th:only-of-type {\n",
       "        vertical-align: middle;\n",
       "    }\n",
       "\n",
       "    .dataframe tbody tr th {\n",
       "        vertical-align: top;\n",
       "    }\n",
       "\n",
       "    .dataframe thead th {\n",
       "        text-align: right;\n",
       "    }\n",
       "</style>\n",
       "<table border=\"1\" class=\"dataframe\">\n",
       "  <thead>\n",
       "    <tr style=\"text-align: right;\">\n",
       "      <th></th>\n",
       "      <th>name</th>\n",
       "      <th>real_name</th>\n",
       "      <th>full_name</th>\n",
       "      <th>overall_score</th>\n",
       "      <th>history_text</th>\n",
       "      <th>powers_text</th>\n",
       "      <th>creator</th>\n",
       "      <th>clean</th>\n",
       "      <th>sadness_level</th>\n",
       "    </tr>\n",
       "  </thead>\n",
       "  <tbody>\n",
       "    <tr>\n",
       "      <th>0</th>\n",
       "      <td>3-D Man</td>\n",
       "      <td>Delroy Garrett, Jr.</td>\n",
       "      <td>Delroy Garrett, Jr.</td>\n",
       "      <td>6</td>\n",
       "      <td>Delroy Garrett, Jr. grew up to become a track ...</td>\n",
       "      <td>NaN</td>\n",
       "      <td>Marvel Comics</td>\n",
       "      <td>delroy garrett jr grow become track star compe...</td>\n",
       "      <td>0.093</td>\n",
       "    </tr>\n",
       "    <tr>\n",
       "      <th>1</th>\n",
       "      <td>A-Bomb</td>\n",
       "      <td>Richard Milhouse Jones</td>\n",
       "      <td>Richard Milhouse Jones</td>\n",
       "      <td>20</td>\n",
       "      <td>Richard \"Rick\" Jones was orphaned at a young ...</td>\n",
       "      <td>On rare occasions, and through unusual circu...</td>\n",
       "      <td>Marvel Comics</td>\n",
       "      <td>richard rick jones orphan young age expel seve...</td>\n",
       "      <td>0.176</td>\n",
       "    </tr>\n",
       "    <tr>\n",
       "      <th>2</th>\n",
       "      <td>Abomination</td>\n",
       "      <td>Emil Blonsky</td>\n",
       "      <td>Emil Blonsky</td>\n",
       "      <td>22</td>\n",
       "      <td>Formerly known as Emil Blonsky, a spy of Sovie...</td>\n",
       "      <td>'Blonsky''s transformation into the Abominatio...</td>\n",
       "      <td>Marvel Comics</td>\n",
       "      <td>formerly know emil blonsky spy soviet yugoslav...</td>\n",
       "      <td>0.256</td>\n",
       "    </tr>\n",
       "    <tr>\n",
       "      <th>3</th>\n",
       "      <td>Abraxas</td>\n",
       "      <td>Abraxas</td>\n",
       "      <td>Abraxas</td>\n",
       "      <td>∞</td>\n",
       "      <td>Born within the abstract entity Eternity, Abra...</td>\n",
       "      <td>As antithesis to the cosmic entity Eternity, A...</td>\n",
       "      <td>Marvel Comics</td>\n",
       "      <td>bear within abstract entity eternity abraxas k...</td>\n",
       "      <td>0.142</td>\n",
       "    </tr>\n",
       "    <tr>\n",
       "      <th>4</th>\n",
       "      <td>Absorbing Man (MCU)</td>\n",
       "      <td>Carl Creel</td>\n",
       "      <td>Carl Creel</td>\n",
       "      <td>8</td>\n",
       "      <td>Carl \"Crusher\" Creel was an enhanced individua...</td>\n",
       "      <td>Carl Creel was able to duplicate at will the ...</td>\n",
       "      <td>Marvel Comics</td>\n",
       "      <td>carl crusher creel enhance individual ability ...</td>\n",
       "      <td>0.248</td>\n",
       "    </tr>\n",
       "  </tbody>\n",
       "</table>\n",
       "</div>"
      ],
      "text/plain": [
       "                  name               real_name               full_name  \\\n",
       "0              3-D Man     Delroy Garrett, Jr.     Delroy Garrett, Jr.   \n",
       "1               A-Bomb  Richard Milhouse Jones  Richard Milhouse Jones   \n",
       "2          Abomination            Emil Blonsky            Emil Blonsky   \n",
       "3              Abraxas                 Abraxas                 Abraxas   \n",
       "4  Absorbing Man (MCU)              Carl Creel              Carl Creel   \n",
       "\n",
       "  overall_score                                       history_text  \\\n",
       "0             6  Delroy Garrett, Jr. grew up to become a track ...   \n",
       "1            20   Richard \"Rick\" Jones was orphaned at a young ...   \n",
       "2            22  Formerly known as Emil Blonsky, a spy of Sovie...   \n",
       "3             ∞  Born within the abstract entity Eternity, Abra...   \n",
       "4             8  Carl \"Crusher\" Creel was an enhanced individua...   \n",
       "\n",
       "                                         powers_text        creator  \\\n",
       "0                                                NaN  Marvel Comics   \n",
       "1    On rare occasions, and through unusual circu...  Marvel Comics   \n",
       "2  'Blonsky''s transformation into the Abominatio...  Marvel Comics   \n",
       "3  As antithesis to the cosmic entity Eternity, A...  Marvel Comics   \n",
       "4   Carl Creel was able to duplicate at will the ...  Marvel Comics   \n",
       "\n",
       "                                               clean  sadness_level  \n",
       "0  delroy garrett jr grow become track star compe...          0.093  \n",
       "1  richard rick jones orphan young age expel seve...          0.176  \n",
       "2  formerly know emil blonsky spy soviet yugoslav...          0.256  \n",
       "3  bear within abstract entity eternity abraxas k...          0.142  \n",
       "4  carl crusher creel enhance individual ability ...          0.248  "
      ]
     },
     "execution_count": 12,
     "metadata": {},
     "output_type": "execute_result"
    }
   ],
   "source": [
    "data.head()"
   ]
  },
  {
   "cell_type": "code",
   "execution_count": 13,
   "id": "7afb2f68",
   "metadata": {
    "execution": {
     "iopub.execute_input": "2023-07-26T13:45:40.374024Z",
     "iopub.status.busy": "2023-07-26T13:45:40.373611Z",
     "iopub.status.idle": "2023-07-26T13:46:13.461125Z",
     "shell.execute_reply": "2023-07-26T13:46:13.459874Z"
    },
    "papermill": {
     "duration": 33.112176,
     "end_time": "2023-07-26T13:46:13.474258",
     "exception": false,
     "start_time": "2023-07-26T13:45:40.362082",
     "status": "completed"
    },
    "tags": []
   },
   "outputs": [
    {
     "name": "stdout",
     "output_type": "stream",
     "text": [
      "Mean Squared Error: 0.006933768119512197\n"
     ]
    }
   ],
   "source": [
    "import pandas as pd\n",
    "from sklearn.model_selection import train_test_split\n",
    "from sklearn.feature_extraction.text import CountVectorizer\n",
    "from sklearn.ensemble import RandomForestRegressor\n",
    "from sklearn.metrics import mean_squared_error\n",
    "from sklearn.preprocessing import StandardScaler\n",
    "\n",
    "# Load the dataset\n",
    "data = pd.read_csv(\"superhero_with_sadness.csv\")\n",
    "\n",
    "# Preprocess the data\n",
    "data = data.fillna('')  # Fill missing values with empty strings\n",
    "X = data[\"clean\"]  # Input feature\n",
    "y = data[\"sadness_level\"]  # Target variable\n",
    "\n",
    "# Split the dataset into training and testing sets\n",
    "X_train, X_test, y_train, y_test = train_test_split(X, y, test_size=0.2, random_state=42)\n",
    "\n",
    "# Vectorize the textual data using CountVectorizer\n",
    "vectorizer = CountVectorizer()\n",
    "X_train_vectorized = vectorizer.fit_transform(X_train)\n",
    "X_test_vectorized = vectorizer.transform(X_test)\n",
    "\n",
    "# Scale the input features\n",
    "scaler = StandardScaler()\n",
    "X_train_scaled = scaler.fit_transform(X_train_vectorized.toarray())\n",
    "X_test_scaled = scaler.transform(X_test_vectorized.toarray())\n",
    "\n",
    "# Train a Random Forest Regressor model\n",
    "model = RandomForestRegressor()\n",
    "model.fit(X_train_scaled, y_train)\n",
    "\n",
    "# Make predictions on the test set\n",
    "y_pred = model.predict(X_test_scaled)\n",
    "\n",
    "# Calculate Mean Squared Error (MSE)\n",
    "mse = mean_squared_error(y_test, y_pred)\n",
    "print(\"Mean Squared Error:\", mse)\n",
    "\n"
   ]
  },
  {
   "cell_type": "code",
   "execution_count": 14,
   "id": "bf707f0c",
   "metadata": {
    "execution": {
     "iopub.execute_input": "2023-07-26T13:46:13.497444Z",
     "iopub.status.busy": "2023-07-26T13:46:13.496599Z",
     "iopub.status.idle": "2023-07-26T13:46:13.503506Z",
     "shell.execute_reply": "2023-07-26T13:46:13.502547Z"
    },
    "papermill": {
     "duration": 0.021267,
     "end_time": "2023-07-26T13:46:13.505838",
     "exception": false,
     "start_time": "2023-07-26T13:46:13.484571",
     "status": "completed"
    },
    "tags": []
   },
   "outputs": [],
   "source": [
    "data['Emotion_Class'] = ''"
   ]
  },
  {
   "cell_type": "code",
   "execution_count": 15,
   "id": "53fa32f6",
   "metadata": {
    "execution": {
     "iopub.execute_input": "2023-07-26T13:46:13.529676Z",
     "iopub.status.busy": "2023-07-26T13:46:13.528862Z",
     "iopub.status.idle": "2023-07-26T13:46:13.537521Z",
     "shell.execute_reply": "2023-07-26T13:46:13.536358Z"
    },
    "papermill": {
     "duration": 0.023643,
     "end_time": "2023-07-26T13:46:13.539997",
     "exception": false,
     "start_time": "2023-07-26T13:46:13.516354",
     "status": "completed"
    },
    "tags": []
   },
   "outputs": [],
   "source": [
    "import numpy as np\n",
    "# Define the conditions and corresponding values for the 'emotion' column\n",
    "conditions = [\n",
    "    (data['sadness_level'] <= 0.1375),\n",
    "    (data['sadness_level'] <= 0.275),\n",
    "    (data['sadness_level'] <= 0.4125),\n",
    "    (data['sadness_level'] <= 0.55)]\n",
    "\n",
    "choices = ['a little sad', 'somewhat sad', 'moderately sad', 'sad']\n",
    "\n",
    "# Use numpy.select to assign values to the 'emotion' column based on the conditions\n",
    "data['Emotion_Class'] = np.select(conditions, choices, default='unknown')"
   ]
  },
  {
   "cell_type": "code",
   "execution_count": 16,
   "id": "1c549d00",
   "metadata": {
    "execution": {
     "iopub.execute_input": "2023-07-26T13:46:13.563030Z",
     "iopub.status.busy": "2023-07-26T13:46:13.562193Z",
     "iopub.status.idle": "2023-07-26T13:46:25.137277Z",
     "shell.execute_reply": "2023-07-26T13:46:25.135929Z"
    },
    "papermill": {
     "duration": 11.589138,
     "end_time": "2023-07-26T13:46:25.139742",
     "exception": false,
     "start_time": "2023-07-26T13:46:13.550604",
     "status": "completed"
    },
    "tags": []
   },
   "outputs": [
    {
     "name": "stdout",
     "output_type": "stream",
     "text": [
      "Requirement already satisfied: seaborn in /opt/conda/lib/python3.10/site-packages (0.12.2)\r\n",
      "Requirement already satisfied: numpy!=1.24.0,>=1.17 in /opt/conda/lib/python3.10/site-packages (from seaborn) (1.23.5)\r\n",
      "Requirement already satisfied: pandas>=0.25 in /opt/conda/lib/python3.10/site-packages (from seaborn) (1.5.3)\r\n",
      "Requirement already satisfied: matplotlib!=3.6.1,>=3.1 in /opt/conda/lib/python3.10/site-packages (from seaborn) (3.7.1)\r\n",
      "Requirement already satisfied: contourpy>=1.0.1 in /opt/conda/lib/python3.10/site-packages (from matplotlib!=3.6.1,>=3.1->seaborn) (1.1.0)\r\n",
      "Requirement already satisfied: cycler>=0.10 in /opt/conda/lib/python3.10/site-packages (from matplotlib!=3.6.1,>=3.1->seaborn) (0.11.0)\r\n",
      "Requirement already satisfied: fonttools>=4.22.0 in /opt/conda/lib/python3.10/site-packages (from matplotlib!=3.6.1,>=3.1->seaborn) (4.40.0)\r\n",
      "Requirement already satisfied: kiwisolver>=1.0.1 in /opt/conda/lib/python3.10/site-packages (from matplotlib!=3.6.1,>=3.1->seaborn) (1.4.4)\r\n",
      "Requirement already satisfied: packaging>=20.0 in /opt/conda/lib/python3.10/site-packages (from matplotlib!=3.6.1,>=3.1->seaborn) (21.3)\r\n",
      "Requirement already satisfied: pillow>=6.2.0 in /opt/conda/lib/python3.10/site-packages (from matplotlib!=3.6.1,>=3.1->seaborn) (9.5.0)\r\n",
      "Requirement already satisfied: pyparsing>=2.3.1 in /opt/conda/lib/python3.10/site-packages (from matplotlib!=3.6.1,>=3.1->seaborn) (3.0.9)\r\n",
      "Requirement already satisfied: python-dateutil>=2.7 in /opt/conda/lib/python3.10/site-packages (from matplotlib!=3.6.1,>=3.1->seaborn) (2.8.2)\r\n",
      "Requirement already satisfied: pytz>=2020.1 in /opt/conda/lib/python3.10/site-packages (from pandas>=0.25->seaborn) (2023.3)\r\n",
      "Requirement already satisfied: six>=1.5 in /opt/conda/lib/python3.10/site-packages (from python-dateutil>=2.7->matplotlib!=3.6.1,>=3.1->seaborn) (1.16.0)\r\n",
      "Note: you may need to restart the kernel to use updated packages.\n"
     ]
    }
   ],
   "source": [
    "pip install seaborn"
   ]
  },
  {
   "cell_type": "code",
   "execution_count": 17,
   "id": "80b4c776",
   "metadata": {
    "execution": {
     "iopub.execute_input": "2023-07-26T13:46:25.166128Z",
     "iopub.status.busy": "2023-07-26T13:46:25.165680Z",
     "iopub.status.idle": "2023-07-26T13:46:25.699913Z",
     "shell.execute_reply": "2023-07-26T13:46:25.698666Z"
    },
    "papermill": {
     "duration": 0.552384,
     "end_time": "2023-07-26T13:46:25.702695",
     "exception": false,
     "start_time": "2023-07-26T13:46:25.150311",
     "status": "completed"
    },
    "tags": []
   },
   "outputs": [],
   "source": [
    "import seaborn as sns\n",
    "import matplotlib.pyplot as plt"
   ]
  },
  {
   "cell_type": "code",
   "execution_count": 18,
   "id": "321f091d",
   "metadata": {
    "execution": {
     "iopub.execute_input": "2023-07-26T13:46:25.726489Z",
     "iopub.status.busy": "2023-07-26T13:46:25.725639Z",
     "iopub.status.idle": "2023-07-26T13:46:26.099544Z",
     "shell.execute_reply": "2023-07-26T13:46:26.098375Z"
    },
    "papermill": {
     "duration": 0.388623,
     "end_time": "2023-07-26T13:46:26.102168",
     "exception": false,
     "start_time": "2023-07-26T13:46:25.713545",
     "status": "completed"
    },
    "tags": []
   },
   "outputs": [
    {
     "data": {
      "image/png": "[encoded data removed]",
      "text/plain": [
       "<Figure size 640x480 with 1 Axes>"
      ]
     },
     "metadata": {},
     "output_type": "display_data"
    }
   ],
   "source": [
    "sns.barplot(x='Emotion_Class', y= 'sadness_level', data=data)\n",
    "plt.show()"
   ]
  },
  {
   "cell_type": "code",
   "execution_count": 19,
   "id": "93dd53b0",
   "metadata": {
    "execution": {
     "iopub.execute_input": "2023-07-26T13:46:26.126924Z",
     "iopub.status.busy": "2023-07-26T13:46:26.126500Z",
     "iopub.status.idle": "2023-07-26T13:46:26.148313Z",
     "shell.execute_reply": "2023-07-26T13:46:26.147299Z"
    },
    "papermill": {
     "duration": 0.036887,
     "end_time": "2023-07-26T13:46:26.150891",
     "exception": false,
     "start_time": "2023-07-26T13:46:26.114004",
     "status": "completed"
    },
    "tags": []
   },
   "outputs": [
    {
     "data": {
      "text/html": [
       "<div>\n",
       "<style scoped>\n",
       "    .dataframe tbody tr th:only-of-type {\n",
       "        vertical-align: middle;\n",
       "    }\n",
       "\n",
       "    .dataframe tbody tr th {\n",
       "        vertical-align: top;\n",
       "    }\n",
       "\n",
       "    .dataframe thead th {\n",
       "        text-align: right;\n",
       "    }\n",
       "</style>\n",
       "<table border=\"1\" class=\"dataframe\">\n",
       "  <thead>\n",
       "    <tr style=\"text-align: right;\">\n",
       "      <th></th>\n",
       "      <th>name</th>\n",
       "      <th>real_name</th>\n",
       "      <th>full_name</th>\n",
       "      <th>overall_score</th>\n",
       "      <th>history_text</th>\n",
       "      <th>powers_text</th>\n",
       "      <th>creator</th>\n",
       "      <th>clean</th>\n",
       "      <th>sadness_level</th>\n",
       "      <th>Emotion_Class</th>\n",
       "    </tr>\n",
       "  </thead>\n",
       "  <tbody>\n",
       "    <tr>\n",
       "      <th>0</th>\n",
       "      <td>3-D Man</td>\n",
       "      <td>Delroy Garrett, Jr.</td>\n",
       "      <td>Delroy Garrett, Jr.</td>\n",
       "      <td>6</td>\n",
       "      <td>Delroy Garrett, Jr. grew up to become a track ...</td>\n",
       "      <td></td>\n",
       "      <td>Marvel Comics</td>\n",
       "      <td>delroy garrett jr grow become track star compe...</td>\n",
       "      <td>0.093</td>\n",
       "      <td>a little sad</td>\n",
       "    </tr>\n",
       "    <tr>\n",
       "      <th>1</th>\n",
       "      <td>A-Bomb</td>\n",
       "      <td>Richard Milhouse Jones</td>\n",
       "      <td>Richard Milhouse Jones</td>\n",
       "      <td>20</td>\n",
       "      <td>Richard \"Rick\" Jones was orphaned at a young ...</td>\n",
       "      <td>On rare occasions, and through unusual circu...</td>\n",
       "      <td>Marvel Comics</td>\n",
       "      <td>richard rick jones orphan young age expel seve...</td>\n",
       "      <td>0.176</td>\n",
       "      <td>somewhat sad</td>\n",
       "    </tr>\n",
       "    <tr>\n",
       "      <th>2</th>\n",
       "      <td>Abomination</td>\n",
       "      <td>Emil Blonsky</td>\n",
       "      <td>Emil Blonsky</td>\n",
       "      <td>22</td>\n",
       "      <td>Formerly known as Emil Blonsky, a spy of Sovie...</td>\n",
       "      <td>'Blonsky''s transformation into the Abominatio...</td>\n",
       "      <td>Marvel Comics</td>\n",
       "      <td>formerly know emil blonsky spy soviet yugoslav...</td>\n",
       "      <td>0.256</td>\n",
       "      <td>somewhat sad</td>\n",
       "    </tr>\n",
       "    <tr>\n",
       "      <th>3</th>\n",
       "      <td>Abraxas</td>\n",
       "      <td>Abraxas</td>\n",
       "      <td>Abraxas</td>\n",
       "      <td>∞</td>\n",
       "      <td>Born within the abstract entity Eternity, Abra...</td>\n",
       "      <td>As antithesis to the cosmic entity Eternity, A...</td>\n",
       "      <td>Marvel Comics</td>\n",
       "      <td>bear within abstract entity eternity abraxas k...</td>\n",
       "      <td>0.142</td>\n",
       "      <td>somewhat sad</td>\n",
       "    </tr>\n",
       "    <tr>\n",
       "      <th>4</th>\n",
       "      <td>Absorbing Man (MCU)</td>\n",
       "      <td>Carl Creel</td>\n",
       "      <td>Carl Creel</td>\n",
       "      <td>8</td>\n",
       "      <td>Carl \"Crusher\" Creel was an enhanced individua...</td>\n",
       "      <td>Carl Creel was able to duplicate at will the ...</td>\n",
       "      <td>Marvel Comics</td>\n",
       "      <td>carl crusher creel enhance individual ability ...</td>\n",
       "      <td>0.248</td>\n",
       "      <td>somewhat sad</td>\n",
       "    </tr>\n",
       "    <tr>\n",
       "      <th>...</th>\n",
       "      <td>...</td>\n",
       "      <td>...</td>\n",
       "      <td>...</td>\n",
       "      <td>...</td>\n",
       "      <td>...</td>\n",
       "      <td>...</td>\n",
       "      <td>...</td>\n",
       "      <td>...</td>\n",
       "      <td>...</td>\n",
       "      <td>...</td>\n",
       "    </tr>\n",
       "    <tr>\n",
       "      <th>610</th>\n",
       "      <td>Yondu (MCU)</td>\n",
       "      <td>Yondu</td>\n",
       "      <td></td>\n",
       "      <td>7</td>\n",
       "      <td>Yondu Udonta was a Centaurian, leader of a key...</td>\n",
       "      <td>Yondu Udonta was a member of the Centaurians, ...</td>\n",
       "      <td>Marvel Comics</td>\n",
       "      <td>yondu udonta centaurian leader key albeit ostr...</td>\n",
       "      <td>0.258</td>\n",
       "      <td>somewhat sad</td>\n",
       "    </tr>\n",
       "    <tr>\n",
       "      <th>611</th>\n",
       "      <td>Yondu</td>\n",
       "      <td>Yondu Udonta</td>\n",
       "      <td></td>\n",
       "      <td>5</td>\n",
       "      <td>Yondu is the leader of the Ravagers, a group o...</td>\n",
       "      <td></td>\n",
       "      <td>Marvel Comics</td>\n",
       "      <td>yondu leader ravagers group space pirate yondu...</td>\n",
       "      <td>0.073</td>\n",
       "      <td>a little sad</td>\n",
       "    </tr>\n",
       "    <tr>\n",
       "      <th>612</th>\n",
       "      <td>Yukio (FOX)</td>\n",
       "      <td>Yukio</td>\n",
       "      <td>Yukio</td>\n",
       "      <td>5</td>\n",
       "      <td>When she was 5 years old, Yukio predicted her...</td>\n",
       "      <td>Yukio is a mutant with a limited, precognitiv...</td>\n",
       "      <td>Marvel Comics</td>\n",
       "      <td>years old yukio predict parent death soon die ...</td>\n",
       "      <td>0.264</td>\n",
       "      <td>somewhat sad</td>\n",
       "    </tr>\n",
       "    <tr>\n",
       "      <th>613</th>\n",
       "      <td>Yukio</td>\n",
       "      <td>Yukio (full name unrevealed)</td>\n",
       "      <td>Yukio (full name unrevealed)</td>\n",
       "      <td>-</td>\n",
       "      <td>Little is known about the early life of the ad...</td>\n",
       "      <td>No known powers.</td>\n",
       "      <td>Marvel Comics</td>\n",
       "      <td>little know early life adventurous yukio save ...</td>\n",
       "      <td>0.168</td>\n",
       "      <td>somewhat sad</td>\n",
       "    </tr>\n",
       "    <tr>\n",
       "      <th>614</th>\n",
       "      <td>Zzzax</td>\n",
       "      <td></td>\n",
       "      <td></td>\n",
       "      <td>5</td>\n",
       "      <td>Zzzax was the product of an accident that occu...</td>\n",
       "      <td></td>\n",
       "      <td>Marvel Comics</td>\n",
       "      <td>zzzax product accident occur consolidate ediso...</td>\n",
       "      <td>0.142</td>\n",
       "      <td>somewhat sad</td>\n",
       "    </tr>\n",
       "  </tbody>\n",
       "</table>\n",
       "<p>615 rows × 10 columns</p>\n",
       "</div>"
      ],
      "text/plain": [
       "                    name                     real_name  \\\n",
       "0                3-D Man           Delroy Garrett, Jr.   \n",
       "1                 A-Bomb        Richard Milhouse Jones   \n",
       "2            Abomination                  Emil Blonsky   \n",
       "3                Abraxas                       Abraxas   \n",
       "4    Absorbing Man (MCU)                    Carl Creel   \n",
       "..                   ...                           ...   \n",
       "610          Yondu (MCU)                         Yondu   \n",
       "611                Yondu                  Yondu Udonta   \n",
       "612          Yukio (FOX)                         Yukio   \n",
       "613                Yukio  Yukio (full name unrevealed)   \n",
       "614                Zzzax                                 \n",
       "\n",
       "                        full_name overall_score  \\\n",
       "0             Delroy Garrett, Jr.             6   \n",
       "1          Richard Milhouse Jones            20   \n",
       "2                    Emil Blonsky            22   \n",
       "3                         Abraxas             ∞   \n",
       "4                      Carl Creel             8   \n",
       "..                            ...           ...   \n",
       "610                                           7   \n",
       "611                                           5   \n",
       "612                         Yukio             5   \n",
       "613  Yukio (full name unrevealed)             -   \n",
       "614                                           5   \n",
       "\n",
       "                                          history_text  \\\n",
       "0    Delroy Garrett, Jr. grew up to become a track ...   \n",
       "1     Richard \"Rick\" Jones was orphaned at a young ...   \n",
       "2    Formerly known as Emil Blonsky, a spy of Sovie...   \n",
       "3    Born within the abstract entity Eternity, Abra...   \n",
       "4    Carl \"Crusher\" Creel was an enhanced individua...   \n",
       "..                                                 ...   \n",
       "610  Yondu Udonta was a Centaurian, leader of a key...   \n",
       "611  Yondu is the leader of the Ravagers, a group o...   \n",
       "612   When she was 5 years old, Yukio predicted her...   \n",
       "613  Little is known about the early life of the ad...   \n",
       "614  Zzzax was the product of an accident that occu...   \n",
       "\n",
       "                                           powers_text        creator  \\\n",
       "0                                                       Marvel Comics   \n",
       "1      On rare occasions, and through unusual circu...  Marvel Comics   \n",
       "2    'Blonsky''s transformation into the Abominatio...  Marvel Comics   \n",
       "3    As antithesis to the cosmic entity Eternity, A...  Marvel Comics   \n",
       "4     Carl Creel was able to duplicate at will the ...  Marvel Comics   \n",
       "..                                                 ...            ...   \n",
       "610  Yondu Udonta was a member of the Centaurians, ...  Marvel Comics   \n",
       "611                                                     Marvel Comics   \n",
       "612   Yukio is a mutant with a limited, precognitiv...  Marvel Comics   \n",
       "613                                   No known powers.  Marvel Comics   \n",
       "614                                                     Marvel Comics   \n",
       "\n",
       "                                                 clean  sadness_level  \\\n",
       "0    delroy garrett jr grow become track star compe...          0.093   \n",
       "1    richard rick jones orphan young age expel seve...          0.176   \n",
       "2    formerly know emil blonsky spy soviet yugoslav...          0.256   \n",
       "3    bear within abstract entity eternity abraxas k...          0.142   \n",
       "4    carl crusher creel enhance individual ability ...          0.248   \n",
       "..                                                 ...            ...   \n",
       "610  yondu udonta centaurian leader key albeit ostr...          0.258   \n",
       "611  yondu leader ravagers group space pirate yondu...          0.073   \n",
       "612  years old yukio predict parent death soon die ...          0.264   \n",
       "613  little know early life adventurous yukio save ...          0.168   \n",
       "614  zzzax product accident occur consolidate ediso...          0.142   \n",
       "\n",
       "    Emotion_Class  \n",
       "0    a little sad  \n",
       "1    somewhat sad  \n",
       "2    somewhat sad  \n",
       "3    somewhat sad  \n",
       "4    somewhat sad  \n",
       "..            ...  \n",
       "610  somewhat sad  \n",
       "611  a little sad  \n",
       "612  somewhat sad  \n",
       "613  somewhat sad  \n",
       "614  somewhat sad  \n",
       "\n",
       "[615 rows x 10 columns]"
      ]
     },
     "execution_count": 19,
     "metadata": {},
     "output_type": "execute_result"
    }
   ],
   "source": [
    "data"
   ]
  },
  {
   "cell_type": "code",
   "execution_count": 20,
   "id": "eba66007",
   "metadata": {
    "execution": {
     "iopub.execute_input": "2023-07-26T13:46:26.177161Z",
     "iopub.status.busy": "2023-07-26T13:46:26.176725Z",
     "iopub.status.idle": "2023-07-26T13:46:26.335547Z",
     "shell.execute_reply": "2023-07-26T13:46:26.334530Z"
    },
    "papermill": {
     "duration": 0.174893,
     "end_time": "2023-07-26T13:46:26.337910",
     "exception": false,
     "start_time": "2023-07-26T13:46:26.163017",
     "status": "completed"
    },
    "tags": []
   },
   "outputs": [],
   "source": [
    "data.to_csv(\"emotiontestss.csv\", index=False)"
   ]
  },
  {
   "cell_type": "code",
   "execution_count": 21,
   "id": "8d4f1d7f",
   "metadata": {
    "execution": {
     "iopub.execute_input": "2023-07-26T13:46:26.362699Z",
     "iopub.status.busy": "2023-07-26T13:46:26.362279Z",
     "iopub.status.idle": "2023-07-26T13:46:26.692482Z",
     "shell.execute_reply": "2023-07-26T13:46:26.690960Z"
    },
    "papermill": {
     "duration": 0.345307,
     "end_time": "2023-07-26T13:46:26.695024",
     "exception": false,
     "start_time": "2023-07-26T13:46:26.349717",
     "status": "completed"
    },
    "tags": []
   },
   "outputs": [
    {
     "data": {
      "image/png": "[encoded data removed]",
      "text/plain": [
       "<Figure size 640x480 with 1 Axes>"
      ]
     },
     "metadata": {},
     "output_type": "display_data"
    }
   ],
   "source": [
    "import pandas as pd\n",
    "import matplotlib.pyplot as plt\n",
    "\n",
    "# Assuming you have already trained the model and obtained the predictions\n",
    "# and actual values as 'y_pred' and 'y_test' respectively.\n",
    "\n",
    "# Create a DataFrame to hold the predicted and actual values\n",
    "results = pd.DataFrame({'Actual Sadness Level': y_test, 'Predicted Sadness Level': y_pred})\n",
    "\n",
    "# Plotting the scatter plot\n",
    "plt.scatter(results.index, results['Actual Sadness Level'], label='Actual')\n",
    "plt.scatter(results.index, results['Predicted Sadness Level'], label='Predicted')\n",
    "\n",
    "plt.xlabel('Data Point')\n",
    "plt.ylabel('Sadness Level')\n",
    "plt.title('Predicted vs Actual Sadness Levels')\n",
    "plt.legend()\n",
    "\n",
    "plt.show()\n"
   ]
  },
  {
   "cell_type": "code",
   "execution_count": 22,
   "id": "9b30cff4",
   "metadata": {
    "execution": {
     "iopub.execute_input": "2023-07-26T13:46:26.722389Z",
     "iopub.status.busy": "2023-07-26T13:46:26.721967Z",
     "iopub.status.idle": "2023-07-26T13:46:26.735179Z",
     "shell.execute_reply": "2023-07-26T13:46:26.734203Z"
    },
    "papermill": {
     "duration": 0.029894,
     "end_time": "2023-07-26T13:46:26.737978",
     "exception": false,
     "start_time": "2023-07-26T13:46:26.708084",
     "status": "completed"
    },
    "tags": []
   },
   "outputs": [
    {
     "data": {
      "text/html": [
       "<div>\n",
       "<style scoped>\n",
       "    .dataframe tbody tr th:only-of-type {\n",
       "        vertical-align: middle;\n",
       "    }\n",
       "\n",
       "    .dataframe tbody tr th {\n",
       "        vertical-align: top;\n",
       "    }\n",
       "\n",
       "    .dataframe thead th {\n",
       "        text-align: right;\n",
       "    }\n",
       "</style>\n",
       "<table border=\"1\" class=\"dataframe\">\n",
       "  <thead>\n",
       "    <tr style=\"text-align: right;\">\n",
       "      <th></th>\n",
       "      <th>Emotion_Class</th>\n",
       "    </tr>\n",
       "    <tr>\n",
       "      <th>Emotion_Class</th>\n",
       "      <th></th>\n",
       "    </tr>\n",
       "  </thead>\n",
       "  <tbody>\n",
       "    <tr>\n",
       "      <th>a little sad</th>\n",
       "      <td>174</td>\n",
       "    </tr>\n",
       "    <tr>\n",
       "      <th>moderately sad</th>\n",
       "      <td>82</td>\n",
       "    </tr>\n",
       "    <tr>\n",
       "      <th>sad</th>\n",
       "      <td>5</td>\n",
       "    </tr>\n",
       "    <tr>\n",
       "      <th>somewhat sad</th>\n",
       "      <td>354</td>\n",
       "    </tr>\n",
       "  </tbody>\n",
       "</table>\n",
       "</div>"
      ],
      "text/plain": [
       "                Emotion_Class\n",
       "Emotion_Class                \n",
       "a little sad              174\n",
       "moderately sad             82\n",
       "sad                         5\n",
       "somewhat sad              354"
      ]
     },
     "execution_count": 22,
     "metadata": {},
     "output_type": "execute_result"
    }
   ],
   "source": [
    "groups = data.groupby('Emotion_Class').agg({'Emotion_Class':'count'})\n",
    "groups"
   ]
  },
  {
   "cell_type": "code",
   "execution_count": 23,
   "id": "0ea071fa",
   "metadata": {
    "execution": {
     "iopub.execute_input": "2023-07-26T13:46:26.765233Z",
     "iopub.status.busy": "2023-07-26T13:46:26.764476Z",
     "iopub.status.idle": "2023-07-26T13:46:27.020370Z",
     "shell.execute_reply": "2023-07-26T13:46:27.019094Z"
    },
    "papermill": {
     "duration": 0.272502,
     "end_time": "2023-07-26T13:46:27.023118",
     "exception": false,
     "start_time": "2023-07-26T13:46:26.750616",
     "status": "completed"
    },
    "tags": []
   },
   "outputs": [
    {
     "data": {
      "image/png": "[encoded data removed]",
      "text/plain": [
       "<Figure size 640x480 with 1 Axes>"
      ]
     },
     "metadata": {},
     "output_type": "display_data"
    }
   ],
   "source": [
    "bars = plt.bar(range(4),groups.Emotion_Class,color=('b','r'))\n",
    "# Add labels and title\n",
    "plt.xlabel('Sadness Classes')\n",
    "plt.ylabel('Amount')\n",
    "plt.title('Emotion Bar Graph')\n",
    "\n",
    "plt.xticks([1,2,3,4, 5 ,6 ,7])\n",
    "plt.show()"
   ]
  },
  {
   "cell_type": "code",
   "execution_count": 24,
   "id": "e6166469",
   "metadata": {
    "execution": {
     "iopub.execute_input": "2023-07-26T13:46:27.050549Z",
     "iopub.status.busy": "2023-07-26T13:46:27.049824Z",
     "iopub.status.idle": "2023-07-26T13:46:27.059600Z",
     "shell.execute_reply": "2023-07-26T13:46:27.058762Z"
    },
    "papermill": {
     "duration": 0.02597,
     "end_time": "2023-07-26T13:46:27.061827",
     "exception": false,
     "start_time": "2023-07-26T13:46:27.035857",
     "status": "completed"
    },
    "tags": []
   },
   "outputs": [],
   "source": [
    "data = data.fillna(value=0)\n",
    "column_to_check = 'sadness_level'\n",
    "data = data[data[column_to_check] != 0]"
   ]
  },
  {
   "cell_type": "code",
   "execution_count": 25,
   "id": "e6539cc2",
   "metadata": {
    "execution": {
     "iopub.execute_input": "2023-07-26T13:46:27.088729Z",
     "iopub.status.busy": "2023-07-26T13:46:27.088083Z",
     "iopub.status.idle": "2023-07-26T13:46:27.103595Z",
     "shell.execute_reply": "2023-07-26T13:46:27.102593Z"
    },
    "papermill": {
     "duration": 0.032049,
     "end_time": "2023-07-26T13:46:27.106298",
     "exception": false,
     "start_time": "2023-07-26T13:46:27.074249",
     "status": "completed"
    },
    "tags": []
   },
   "outputs": [],
   "source": [
    "# Machine learning model building\n",
    "from sklearn.feature_extraction.text import CountVectorizer, TfidfVectorizer\n",
    "from sklearn.metrics import accuracy_score, classification_report\n",
    "from sklearn.model_selection import train_test_split\n",
    "from sklearn.naive_bayes import MultinomialNB\n",
    "from sklearn.linear_model import LogisticRegression\n",
    "from sklearn.model_selection import train_test_split\n",
    "from sklearn.metrics import accuracy_score"
   ]
  },
  {
   "cell_type": "code",
   "execution_count": 26,
   "id": "8874ed08",
   "metadata": {
    "execution": {
     "iopub.execute_input": "2023-07-26T13:46:27.133534Z",
     "iopub.status.busy": "2023-07-26T13:46:27.132515Z",
     "iopub.status.idle": "2023-07-26T13:46:38.688289Z",
     "shell.execute_reply": "2023-07-26T13:46:38.687028Z"
    },
    "papermill": {
     "duration": 11.572418,
     "end_time": "2023-07-26T13:46:38.691244",
     "exception": false,
     "start_time": "2023-07-26T13:46:27.118826",
     "status": "completed"
    },
    "tags": []
   },
   "outputs": [
    {
     "name": "stdout",
     "output_type": "stream",
     "text": [
      "Requirement already satisfied: scikit-learn in /opt/conda/lib/python3.10/site-packages (1.2.2)\r\n",
      "Requirement already satisfied: numpy>=1.17.3 in /opt/conda/lib/python3.10/site-packages (from scikit-learn) (1.23.5)\r\n",
      "Requirement already satisfied: scipy>=1.3.2 in /opt/conda/lib/python3.10/site-packages (from scikit-learn) (1.11.1)\r\n",
      "Requirement already satisfied: joblib>=1.1.1 in /opt/conda/lib/python3.10/site-packages (from scikit-learn) (1.2.0)\r\n",
      "Requirement already satisfied: threadpoolctl>=2.0.0 in /opt/conda/lib/python3.10/site-packages (from scikit-learn) (3.1.0)\r\n",
      "Note: you may need to restart the kernel to use updated packages.\n"
     ]
    }
   ],
   "source": [
    "pip install scikit-learn\n"
   ]
  },
  {
   "cell_type": "code",
   "execution_count": 27,
   "id": "82bb70e7",
   "metadata": {
    "execution": {
     "iopub.execute_input": "2023-07-26T13:46:38.719827Z",
     "iopub.status.busy": "2023-07-26T13:46:38.719365Z",
     "iopub.status.idle": "2023-07-26T13:46:38.725656Z",
     "shell.execute_reply": "2023-07-26T13:46:38.724537Z"
    },
    "papermill": {
     "duration": 0.023609,
     "end_time": "2023-07-26T13:46:38.728034",
     "exception": false,
     "start_time": "2023-07-26T13:46:38.704425",
     "status": "completed"
    },
    "tags": []
   },
   "outputs": [],
   "source": [
    "# Build Features from text\n",
    "xFeatures = data[\"clean\"]\n",
    "ylabels = data[\"Emotion_Class\"]"
   ]
  },
  {
   "cell_type": "code",
   "execution_count": 28,
   "id": "76c5aefd",
   "metadata": {
    "execution": {
     "iopub.execute_input": "2023-07-26T13:46:38.755746Z",
     "iopub.status.busy": "2023-07-26T13:46:38.754887Z",
     "iopub.status.idle": "2023-07-26T13:46:38.995033Z",
     "shell.execute_reply": "2023-07-26T13:46:38.994005Z"
    },
    "papermill": {
     "duration": 0.256706,
     "end_time": "2023-07-26T13:46:38.997621",
     "exception": false,
     "start_time": "2023-07-26T13:46:38.740915",
     "status": "completed"
    },
    "tags": []
   },
   "outputs": [],
   "source": [
    "cv = CountVectorizer()\n",
    "x = cv.fit_transform(xFeatures)"
   ]
  },
  {
   "cell_type": "code",
   "execution_count": 29,
   "id": "64e6541e",
   "metadata": {
    "execution": {
     "iopub.execute_input": "2023-07-26T13:46:39.025167Z",
     "iopub.status.busy": "2023-07-26T13:46:39.024141Z",
     "iopub.status.idle": "2023-07-26T13:46:39.045531Z",
     "shell.execute_reply": "2023-07-26T13:46:39.044672Z"
    },
    "papermill": {
     "duration": 0.037497,
     "end_time": "2023-07-26T13:46:39.047732",
     "exception": false,
     "start_time": "2023-07-26T13:46:39.010235",
     "status": "completed"
    },
    "tags": []
   },
   "outputs": [
    {
     "data": {
      "text/plain": [
       "array(['aakon', 'aan', 'aaron', ..., 'zsaji', 'zuras', 'zzzax'],\n",
       "      dtype=object)"
      ]
     },
     "execution_count": 29,
     "metadata": {},
     "output_type": "execute_result"
    }
   ],
   "source": [
    "# Get feature names\n",
    "cv.get_feature_names_out()"
   ]
  },
  {
   "cell_type": "code",
   "execution_count": 30,
   "id": "a6da20e2",
   "metadata": {
    "execution": {
     "iopub.execute_input": "2023-07-26T13:46:39.075910Z",
     "iopub.status.busy": "2023-07-26T13:46:39.074696Z",
     "iopub.status.idle": "2023-07-26T13:46:39.135290Z",
     "shell.execute_reply": "2023-07-26T13:46:39.134189Z"
    },
    "papermill": {
     "duration": 0.077185,
     "end_time": "2023-07-26T13:46:39.137657",
     "exception": false,
     "start_time": "2023-07-26T13:46:39.060472",
     "status": "completed"
    },
    "tags": []
   },
   "outputs": [
    {
     "data": {
      "text/plain": [
       "array([[ 0,  0,  0, ...,  0,  0,  0],\n",
       "       [ 0,  0,  0, ...,  0,  0,  0],\n",
       "       [ 0,  0,  0, ...,  0,  0,  0],\n",
       "       ...,\n",
       "       [ 0,  0,  0, ...,  0,  0,  0],\n",
       "       [ 0,  0,  0, ...,  0,  0,  0],\n",
       "       [ 0,  0,  0, ...,  0,  0, 39]])"
      ]
     },
     "execution_count": 30,
     "metadata": {},
     "output_type": "execute_result"
    }
   ],
   "source": [
    "x.toarray()"
   ]
  },
  {
   "cell_type": "code",
   "execution_count": 31,
   "id": "94e8f751",
   "metadata": {
    "execution": {
     "iopub.execute_input": "2023-07-26T13:46:39.165281Z",
     "iopub.status.busy": "2023-07-26T13:46:39.164514Z",
     "iopub.status.idle": "2023-07-26T13:46:50.667502Z",
     "shell.execute_reply": "2023-07-26T13:46:50.665786Z"
    },
    "papermill": {
     "duration": 11.519747,
     "end_time": "2023-07-26T13:46:50.670249",
     "exception": false,
     "start_time": "2023-07-26T13:46:39.150502",
     "status": "completed"
    },
    "tags": []
   },
   "outputs": [
    {
     "name": "stdout",
     "output_type": "stream",
     "text": [
      "Requirement already satisfied: imbalanced-learn in /opt/conda/lib/python3.10/site-packages (0.10.1)\r\n",
      "Requirement already satisfied: numpy>=1.17.3 in /opt/conda/lib/python3.10/site-packages (from imbalanced-learn) (1.23.5)\r\n",
      "Requirement already satisfied: scipy>=1.3.2 in /opt/conda/lib/python3.10/site-packages (from imbalanced-learn) (1.11.1)\r\n",
      "Requirement already satisfied: scikit-learn>=1.0.2 in /opt/conda/lib/python3.10/site-packages (from imbalanced-learn) (1.2.2)\r\n",
      "Requirement already satisfied: joblib>=1.1.1 in /opt/conda/lib/python3.10/site-packages (from imbalanced-learn) (1.2.0)\r\n",
      "Requirement already satisfied: threadpoolctl>=2.0.0 in /opt/conda/lib/python3.10/site-packages (from imbalanced-learn) (3.1.0)\r\n",
      "Note: you may need to restart the kernel to use updated packages.\n"
     ]
    }
   ],
   "source": [
    "pip install imbalanced-learn"
   ]
  },
  {
   "cell_type": "code",
   "execution_count": 32,
   "id": "29df6a93",
   "metadata": {
    "execution": {
     "iopub.execute_input": "2023-07-26T13:46:50.699894Z",
     "iopub.status.busy": "2023-07-26T13:46:50.698963Z",
     "iopub.status.idle": "2023-07-26T13:46:50.990338Z",
     "shell.execute_reply": "2023-07-26T13:46:50.988742Z"
    },
    "papermill": {
     "duration": 0.309392,
     "end_time": "2023-07-26T13:46:50.993025",
     "exception": false,
     "start_time": "2023-07-26T13:46:50.683633",
     "status": "completed"
    },
    "tags": []
   },
   "outputs": [
    {
     "name": "stdout",
     "output_type": "stream",
     "text": [
      "a little sad      354\n",
      "somewhat sad      354\n",
      "moderately sad    354\n",
      "sad               354\n",
      "dtype: int64\n"
     ]
    }
   ],
   "source": [
    "from imblearn.over_sampling import SMOTE\n",
    "class_features = np.array(data['Emotion_Class'])\n",
    "class_reshaped = np.ravel(class_features)\n",
    "\n",
    "n_neighbors = 4\n",
    "smote = SMOTE(sampling_strategy = 'auto', k_neighbors = n_neighbors)\n",
    "\n",
    "text_resampled, class_resampled = smote.fit_resample(x, class_reshaped)\n",
    "\n",
    "sorted_data = pd.Series(class_resampled).value_counts()\n",
    "print(pd.Series(class_resampled).value_counts())"
   ]
  },
  {
   "cell_type": "code",
   "execution_count": 33,
   "id": "d494f191",
   "metadata": {
    "execution": {
     "iopub.execute_input": "2023-07-26T13:46:51.022045Z",
     "iopub.status.busy": "2023-07-26T13:46:51.021605Z",
     "iopub.status.idle": "2023-07-26T13:46:51.029800Z",
     "shell.execute_reply": "2023-07-26T13:46:51.028618Z"
    },
    "papermill": {
     "duration": 0.02568,
     "end_time": "2023-07-26T13:46:51.032120",
     "exception": false,
     "start_time": "2023-07-26T13:46:51.006440",
     "status": "completed"
    },
    "tags": []
   },
   "outputs": [],
   "source": [
    "# Split the dataset\n",
    "x_train, x_test, y_train, y_test = train_test_split(text_resampled, class_resampled, test_size = 0.3, random_state = 42)"
   ]
  },
  {
   "cell_type": "code",
   "execution_count": 34,
   "id": "57d18b52",
   "metadata": {
    "execution": {
     "iopub.execute_input": "2023-07-26T13:46:51.060527Z",
     "iopub.status.busy": "2023-07-26T13:46:51.060108Z",
     "iopub.status.idle": "2023-07-26T13:46:54.117868Z",
     "shell.execute_reply": "2023-07-26T13:46:54.116413Z"
    },
    "papermill": {
     "duration": 3.075584,
     "end_time": "2023-07-26T13:46:54.121124",
     "exception": false,
     "start_time": "2023-07-26T13:46:51.045540",
     "status": "completed"
    },
    "tags": []
   },
   "outputs": [
    {
     "data": {
      "text/html": [
       "<style>#sk-container-id-1 {color: black;background-color: white;}#sk-container-id-1 pre{padding: 0;}#sk-container-id-1 div.sk-toggleable {background-color: white;}#sk-container-id-1 label.sk-toggleable__label {cursor: pointer;display: block;width: 100%;margin-bottom: 0;padding: 0.3em;box-sizing: border-box;text-align: center;}#sk-container-id-1 label.sk-toggleable__label-arrow:before {content: \"▸\";float: left;margin-right: 0.25em;color: #696969;}#sk-container-id-1 label.sk-toggleable__label-arrow:hover:before {color: black;}#sk-container-id-1 div.sk-estimator:hover label.sk-toggleable__label-arrow:before {color: black;}#sk-container-id-1 div.sk-toggleable__content {max-height: 0;max-width: 0;overflow: hidden;text-align: left;background-color: #f0f8ff;}#sk-container-id-1 div.sk-toggleable__content pre {margin: 0.2em;color: black;border-radius: 0.25em;background-color: #f0f8ff;}#sk-container-id-1 input.sk-toggleable__control:checked~div.sk-toggleable__content {max-height: 200px;max-width: 100%;overflow: auto;}#sk-container-id-1 input.sk-toggleable__control:checked~label.sk-toggleable__label-arrow:before {content: \"▾\";}#sk-container-id-1 div.sk-estimator input.sk-toggleable__control:checked~label.sk-toggleable__label {background-color: #d4ebff;}#sk-container-id-1 div.sk-label input.sk-toggleable__control:checked~label.sk-toggleable__label {background-color: #d4ebff;}#sk-container-id-1 input.sk-hidden--visually {border: 0;clip: rect(1px 1px 1px 1px);clip: rect(1px, 1px, 1px, 1px);height: 1px;margin: -1px;overflow: hidden;padding: 0;position: absolute;width: 1px;}#sk-container-id-1 div.sk-estimator {font-family: monospace;background-color: #f0f8ff;border: 1px dotted black;border-radius: 0.25em;box-sizing: border-box;margin-bottom: 0.5em;}#sk-container-id-1 div.sk-estimator:hover {background-color: #d4ebff;}#sk-container-id-1 div.sk-parallel-item::after {content: \"\";width: 100%;border-bottom: 1px solid gray;flex-grow: 1;}#sk-container-id-1 div.sk-label:hover label.sk-toggleable__label {background-color: #d4ebff;}#sk-container-id-1 div.sk-serial::before {content: \"\";position: absolute;border-left: 1px solid gray;box-sizing: border-box;top: 0;bottom: 0;left: 50%;z-index: 0;}#sk-container-id-1 div.sk-serial {display: flex;flex-direction: column;align-items: center;background-color: white;padding-right: 0.2em;padding-left: 0.2em;position: relative;}#sk-container-id-1 div.sk-item {position: relative;z-index: 1;}#sk-container-id-1 div.sk-parallel {display: flex;align-items: stretch;justify-content: center;background-color: white;position: relative;}#sk-container-id-1 div.sk-item::before, #sk-container-id-1 div.sk-parallel-item::before {content: \"\";position: absolute;border-left: 1px solid gray;box-sizing: border-box;top: 0;bottom: 0;left: 50%;z-index: -1;}#sk-container-id-1 div.sk-parallel-item {display: flex;flex-direction: column;z-index: 1;position: relative;background-color: white;}#sk-container-id-1 div.sk-parallel-item:first-child::after {align-self: flex-end;width: 50%;}#sk-container-id-1 div.sk-parallel-item:last-child::after {align-self: flex-start;width: 50%;}#sk-container-id-1 div.sk-parallel-item:only-child::after {width: 0;}#sk-container-id-1 div.sk-dashed-wrapped {border: 1px dashed gray;margin: 0 0.4em 0.5em 0.4em;box-sizing: border-box;padding-bottom: 0.4em;background-color: white;}#sk-container-id-1 div.sk-label label {font-family: monospace;font-weight: bold;display: inline-block;line-height: 1.2em;}#sk-container-id-1 div.sk-label-container {text-align: center;}#sk-container-id-1 div.sk-container {/* jupyter's `normalize.less` sets `[hidden] { display: none; }` but bootstrap.min.css set `[hidden] { display: none !important; }` so we also need the `!important` here to be able to override the default hidden behavior on the sphinx rendered scikit-learn.org. See: https://github.com/scikit-learn/scikit-learn/issues/21755 */display: inline-block !important;position: relative;}#sk-container-id-1 div.sk-text-repr-fallback {display: none;}</style><div id=\"sk-container-id-1\" class=\"sk-top-container\"><div class=\"sk-text-repr-fallback\"><pre>LogisticRegression()</pre><b>In a Jupyter environment, please rerun this cell to show the HTML representation or trust the notebook. <br />On GitHub, the HTML representation is unable to render, please try loading this page with nbviewer.org.</b></div><div class=\"sk-container\" hidden><div class=\"sk-item\"><div class=\"sk-estimator sk-toggleable\"><input class=\"sk-toggleable__control sk-hidden--visually\" id=\"sk-estimator-id-1\" type=\"checkbox\" checked><label for=\"sk-estimator-id-1\" class=\"sk-toggleable__label sk-toggleable__label-arrow\">LogisticRegression</label><div class=\"sk-toggleable__content\"><pre>LogisticRegression()</pre></div></div></div></div></div>"
      ],
      "text/plain": [
       "LogisticRegression()"
      ]
     },
     "execution_count": 34,
     "metadata": {},
     "output_type": "execute_result"
    }
   ],
   "source": [
    "\n",
    "Lr_model = LogisticRegression()\n",
    "Lr_model.fit(x_train,y_train)"
   ]
  },
  {
   "cell_type": "code",
   "execution_count": 35,
   "id": "299231e7",
   "metadata": {
    "execution": {
     "iopub.execute_input": "2023-07-26T13:46:54.189097Z",
     "iopub.status.busy": "2023-07-26T13:46:54.188679Z",
     "iopub.status.idle": "2023-07-26T13:46:54.198143Z",
     "shell.execute_reply": "2023-07-26T13:46:54.197295Z"
    },
    "papermill": {
     "duration": 0.028248,
     "end_time": "2023-07-26T13:46:54.200336",
     "exception": false,
     "start_time": "2023-07-26T13:46:54.172088",
     "status": "completed"
    },
    "tags": []
   },
   "outputs": [
    {
     "data": {
      "text/plain": [
       "0.8941176470588236"
      ]
     },
     "execution_count": 35,
     "metadata": {},
     "output_type": "execute_result"
    }
   ],
   "source": [
    "Lr_model.score(x_test, y_test)"
   ]
  }
 ],
 "metadata": {
  "kernelspec": {
   "display_name": "Python 3",
   "language": "python",
   "name": "python3"
  },
  "language_info": {
   "codemirror_mode": {
    "name": "ipython",
    "version": 3
   },
   "file_extension": ".py",
   "mimetype": "text/x-python",
   "name": "python",
   "nbconvert_exporter": "python",
   "pygments_lexer": "ipython3",
   "version": "3.10.12"
  },
  "papermill": {
   "default_parameters": {},
   "duration": 130.532255,
   "end_time": "2023-07-26T13:46:55.438508",
   "environment_variables": {},
   "exception": null,
   "input_path": "__notebook__.ipynb",
   "output_path": "__notebook__.ipynb",
   "parameters": {},
   "start_time": "2023-07-26T13:44:44.906253",
   "version": "2.4.0"
  }
 },
 "nbformat": 4,
 "nbformat_minor": 5
}
